{
  "nbformat": 4,
  "nbformat_minor": 0,
  "metadata": {
    "colab": {
      "provenance": [],
      "authorship_tag": "ABX9TyM1uKMJw6if+Yqk/s7R8AgP",
      "include_colab_link": true
    },
    "kernelspec": {
      "name": "python3",
      "display_name": "Python 3"
    },
    "language_info": {
      "name": "python"
    }
  },
  "cells": [
    {
      "cell_type": "markdown",
      "metadata": {
        "id": "view-in-github",
        "colab_type": "text"
      },
      "source": [
        "<a href=\"https://colab.research.google.com/github/CurseARealSword/nlp_module_4_QA/blob/main/NLP_module_4_QA_Ritzmann.ipynb\" target=\"_parent\"><img src=\"https://colab.research.google.com/assets/colab-badge.svg\" alt=\"Open In Colab\"/></a>"
      ]
    },
    {
      "cell_type": "markdown",
      "source": [
        "# Installs etc."
      ],
      "metadata": {
        "id": "iELa7oZ444SV"
      }
    },
    {
      "cell_type": "code",
      "execution_count": 9,
      "metadata": {
        "colab": {
          "base_uri": "https://localhost:8080/"
        },
        "id": "TtN062hq4i07",
        "outputId": "cccb3b01-07e3-494e-e2aa-afc8169fb22d"
      },
      "outputs": [
        {
          "output_type": "stream",
          "name": "stdout",
          "text": [
            "/content\n",
            "fatal: destination path 'nlp_module_4_QA' already exists and is not an empty directory.\n",
            "/content/nlp_module_4_QA\n"
          ]
        }
      ],
      "source": [
        "# connect github repo\n",
        "\n",
        "%cd /content\n",
        "!git clone https://github.com/CurseARealSword/nlp_module_4_QA.git\n",
        "%cd /content/nlp_module_4_QA\n",
        "\n",
        "!git config --global user.email \"martin@martinritzmann.ch\"\n",
        "!git config --global user.name \"CurseARealSword\""
      ]
    },
    {
      "cell_type": "code",
      "source": [],
      "metadata": {
        "id": "YORFTFLg78h-"
      },
      "execution_count": 10,
      "outputs": []
    }
  ]
}